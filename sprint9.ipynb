{
 "cells": [
  {
   "cell_type": "markdown",
   "metadata": {},
   "source": [
    "Hola **Aldo**!\n",
    "\n",
    "Soy **Patricio Requena** 👋. Es un placer ser el revisor de tu proyecto el día de hoy!\n",
    "\n",
    "Revisaré tu proyecto detenidamente con el objetivo de ayudarte a mejorar y perfeccionar tus habilidades. Durante mi revisión, identificaré áreas donde puedas hacer mejoras en tu código, señalando específicamente qué y cómo podrías ajustar para optimizar el rendimiento y la claridad de tu proyecto. Además, es importante para mí destacar los aspectos que has manejado excepcionalmente bien. Reconocer tus fortalezas te ayudará a entender qué técnicas y métodos están funcionando a tu favor y cómo puedes aplicarlos en futuras tareas. \n",
    "\n",
    "_**Recuerda que al final de este notebook encontrarás un comentario general de mi parte**_, empecemos!\n",
    "\n",
    "Encontrarás mis comentarios dentro de cajas verdes, amarillas o rojas, ⚠️ **por favor, no muevas, modifiques o borres mis comentarios** ⚠️:\n",
    "\n",
    "\n",
    "<div class=\"alert alert-block alert-success\">\n",
    "<b>Comentario del revisor</b> <a class=“tocSkip”></a>\n",
    "Si todo está perfecto.\n",
    "</div>\n",
    "\n",
    "<div class=\"alert alert-block alert-warning\">\n",
    "<b>Comentario del revisor</b> <a class=“tocSkip”></a>\n",
    "Si tu código está bien pero se puede mejorar o hay algún detalle que le hace falta.\n",
    "</div>\n",
    "\n",
    "<div class=\"alert alert-block alert-danger\">\n",
    "<b>Comentario del revisor</b> <a class=“tocSkip”></a>\n",
    "Si de pronto hace falta algo o existe algún problema con tu código o conclusiones.\n",
    "</div>\n",
    "\n",
    "Puedes responderme de esta forma:\n",
    "<div class=\"alert alert-block alert-info\">\n",
    "<b>Respuesta del estudiante</b> <a class=“tocSkip”></a>\n",
    "--\n",
    "</div>"
   ]
  },
  {
   "cell_type": "markdown",
   "metadata": {},
   "source": [
    "# **Sprint 9**"
   ]
  },
  {
   "cell_type": "markdown",
   "metadata": {},
   "source": [
    "## **Descripción del proyecto**\n",
    "Te han ofrecido hacer prácticas en el departamento de analítica de Showz, una empresa de venta de entradas de eventos. Tu primera tarea es ayudar a optimizar los gastos de marketing.  \n",
    "\n",
    "Cuentas con:\n",
    "\n",
    "* Registros del servidor con datos sobre las visitas a Showz desde Enero de 2017 hasta Diciembre de 2018;\n",
    "* Un archivo con los pedidos en este periodo;\n",
    "* Estadísticas de gastos de marketing.\n",
    "\n",
    "Lo que vas a investigar:  \n",
    "\n",
    "* Cómo los clientes usan el servicio.\n",
    "* Cuándo empiezan a comprar.\n",
    "* Cuánto dinero aporta cada cliente a la compañía.\n",
    "* Cuándo los ingresos cubren el costo de adquisición de los clientes."
   ]
  },
  {
   "cell_type": "markdown",
   "metadata": {},
   "source": [
    "<div class=\"alert alert-block alert-success\">\n",
    "<b>Comentario del revisor (1ra Iteracion)</b> <a class=“tocSkip”></a>\n",
    "\n",
    "Muy buena práctica el dejar la introducción al proyecto, para que sea un poco más claro también puedes redactar el título de forma más descriptiva hacia lo que se realizará\n",
    "</div>"
   ]
  },
  {
   "cell_type": "markdown",
   "metadata": {},
   "source": [
    "## **Paso 1. Accede a los datos y prepáralos para el análisis**"
   ]
  },
  {
   "cell_type": "markdown",
   "metadata": {},
   "source": [
    "### Importación de librerías"
   ]
  },
  {
   "cell_type": "code",
   "execution_count": 1,
   "metadata": {},
   "outputs": [],
   "source": [
    "from IPython.display import display\n",
    "import pandas as pd\n",
    "import matplotlib.pyplot as plt\n",
    "import numpy as np"
   ]
  },
  {
   "cell_type": "markdown",
   "metadata": {},
   "source": [
    "### Carga de datos"
   ]
  },
  {
   "cell_type": "code",
   "execution_count": 2,
   "metadata": {},
   "outputs": [
    {
     "name": "stderr",
     "output_type": "stream",
     "text": [
      "/.venv/lib/python3.9/site-packages/IPython/core/interactiveshell.py:3308: DtypeWarning: Columns (4) have mixed types.Specify dtype option on import or set low_memory=False.\n",
      "  has_raised = await self.run_ast_nodes(code_ast.body, cell_name,\n"
     ]
    }
   ],
   "source": [
    "visitas = pd.read_csv(\"visits_log_us.csv\")\n",
    "pedidos = pd.read_csv(\"orders_log_us.csv\")\n",
    "gastos = pd.read_csv(\"costs_us.csv\")"
   ]
  },
  {
   "cell_type": "markdown",
   "metadata": {},
   "source": [
    "### Análisis exploratorio de Datos"
   ]
  },
  {
   "cell_type": "markdown",
   "metadata": {},
   "source": [
    "* #### DataFrame visitas"
   ]
  },
  {
   "cell_type": "code",
   "execution_count": 3,
   "metadata": {},
   "outputs": [
    {
     "name": "stdout",
     "output_type": "stream",
     "text": [
      "Información general:\n",
      "\n",
      "<class 'pandas.core.frame.DataFrame'>\n",
      "RangeIndex: 165044 entries, 0 to 165043\n",
      "Data columns (total 5 columns):\n",
      " #   Column     Non-Null Count   Dtype \n",
      "---  ------     --------------   ----- \n",
      " 0   Device     165044 non-null  object\n",
      " 1   End Ts     165044 non-null  object\n",
      " 2   Source Id  165044 non-null  int64 \n",
      " 3   Start Ts   165044 non-null  object\n",
      " 4   Uid        165044 non-null  object\n",
      "dtypes: int64(1), object(4)\n",
      "memory usage: 6.3+ MB\n",
      "None\n",
      "\n",
      "Información estadística:\n",
      "\n",
      "           Source Id\n",
      "count  165044.000000\n",
      "mean        3.747316\n",
      "std         1.910949\n",
      "min         1.000000\n",
      "25%         3.000000\n",
      "50%         4.000000\n",
      "75%         5.000000\n",
      "max        10.000000\n",
      "\n",
      "Valores nulos:\n",
      "\n",
      "Device       0\n",
      "End Ts       0\n",
      "Source Id    0\n",
      "Start Ts     0\n",
      "Uid          0\n",
      "dtype: int64\n",
      "\n",
      "Registros duplicados: 0\n",
      "\n",
      "Primeros 5 registros:\n",
      "\n"
     ]
    },
    {
     "data": {
      "text/html": [
       "<div>\n",
       "<style scoped>\n",
       "    .dataframe tbody tr th:only-of-type {\n",
       "        vertical-align: middle;\n",
       "    }\n",
       "\n",
       "    .dataframe tbody tr th {\n",
       "        vertical-align: top;\n",
       "    }\n",
       "\n",
       "    .dataframe thead th {\n",
       "        text-align: right;\n",
       "    }\n",
       "</style>\n",
       "<table border=\"1\" class=\"dataframe\">\n",
       "  <thead>\n",
       "    <tr style=\"text-align: right;\">\n",
       "      <th></th>\n",
       "      <th>Device</th>\n",
       "      <th>End Ts</th>\n",
       "      <th>Source Id</th>\n",
       "      <th>Start Ts</th>\n",
       "      <th>Uid</th>\n",
       "    </tr>\n",
       "  </thead>\n",
       "  <tbody>\n",
       "    <tr>\n",
       "      <th>0</th>\n",
       "      <td>touch</td>\n",
       "      <td>2017-12-20 17:38:00</td>\n",
       "      <td>4</td>\n",
       "      <td>2017-12-20 17:20:00</td>\n",
       "      <td>16879256277535980062</td>\n",
       "    </tr>\n",
       "    <tr>\n",
       "      <th>1</th>\n",
       "      <td>desktop</td>\n",
       "      <td>2018-02-19 17:21:00</td>\n",
       "      <td>2</td>\n",
       "      <td>2018-02-19 16:53:00</td>\n",
       "      <td>104060357244891740</td>\n",
       "    </tr>\n",
       "    <tr>\n",
       "      <th>2</th>\n",
       "      <td>touch</td>\n",
       "      <td>2017-07-01 01:54:00</td>\n",
       "      <td>5</td>\n",
       "      <td>2017-07-01 01:54:00</td>\n",
       "      <td>7459035603376831527</td>\n",
       "    </tr>\n",
       "    <tr>\n",
       "      <th>3</th>\n",
       "      <td>desktop</td>\n",
       "      <td>2018-05-20 11:23:00</td>\n",
       "      <td>9</td>\n",
       "      <td>2018-05-20 10:59:00</td>\n",
       "      <td>16174680259334210214</td>\n",
       "    </tr>\n",
       "    <tr>\n",
       "      <th>4</th>\n",
       "      <td>desktop</td>\n",
       "      <td>2017-12-27 14:06:00</td>\n",
       "      <td>3</td>\n",
       "      <td>2017-12-27 14:06:00</td>\n",
       "      <td>9969694820036681168</td>\n",
       "    </tr>\n",
       "  </tbody>\n",
       "</table>\n",
       "</div>"
      ],
      "text/plain": [
       "    Device               End Ts  Source Id             Start Ts  \\\n",
       "0    touch  2017-12-20 17:38:00          4  2017-12-20 17:20:00   \n",
       "1  desktop  2018-02-19 17:21:00          2  2018-02-19 16:53:00   \n",
       "2    touch  2017-07-01 01:54:00          5  2017-07-01 01:54:00   \n",
       "3  desktop  2018-05-20 11:23:00          9  2018-05-20 10:59:00   \n",
       "4  desktop  2017-12-27 14:06:00          3  2017-12-27 14:06:00   \n",
       "\n",
       "                    Uid  \n",
       "0  16879256277535980062  \n",
       "1    104060357244891740  \n",
       "2   7459035603376831527  \n",
       "3  16174680259334210214  \n",
       "4   9969694820036681168  "
      ]
     },
     "metadata": {},
     "output_type": "display_data"
    },
    {
     "name": "stdout",
     "output_type": "stream",
     "text": [
      "\n",
      "Últimos 5 registros:\n",
      "\n"
     ]
    },
    {
     "data": {
      "text/html": [
       "<div>\n",
       "<style scoped>\n",
       "    .dataframe tbody tr th:only-of-type {\n",
       "        vertical-align: middle;\n",
       "    }\n",
       "\n",
       "    .dataframe tbody tr th {\n",
       "        vertical-align: top;\n",
       "    }\n",
       "\n",
       "    .dataframe thead th {\n",
       "        text-align: right;\n",
       "    }\n",
       "</style>\n",
       "<table border=\"1\" class=\"dataframe\">\n",
       "  <thead>\n",
       "    <tr style=\"text-align: right;\">\n",
       "      <th></th>\n",
       "      <th>Device</th>\n",
       "      <th>End Ts</th>\n",
       "      <th>Source Id</th>\n",
       "      <th>Start Ts</th>\n",
       "      <th>Uid</th>\n",
       "    </tr>\n",
       "  </thead>\n",
       "  <tbody>\n",
       "    <tr>\n",
       "      <th>165039</th>\n",
       "      <td>touch</td>\n",
       "      <td>2018-01-07 15:13:00</td>\n",
       "      <td>4</td>\n",
       "      <td>2018-01-07 15:03:00</td>\n",
       "      <td>12723545635027880701</td>\n",
       "    </tr>\n",
       "    <tr>\n",
       "      <th>165040</th>\n",
       "      <td>desktop</td>\n",
       "      <td>2017-12-25 00:52:00</td>\n",
       "      <td>3</td>\n",
       "      <td>2017-12-25 00:47:00</td>\n",
       "      <td>8695443775189843440</td>\n",
       "    </tr>\n",
       "    <tr>\n",
       "      <th>165041</th>\n",
       "      <td>desktop</td>\n",
       "      <td>2017-06-09 10:57:00</td>\n",
       "      <td>3</td>\n",
       "      <td>2017-06-09 10:36:00</td>\n",
       "      <td>16785265129205842973</td>\n",
       "    </tr>\n",
       "    <tr>\n",
       "      <th>165042</th>\n",
       "      <td>desktop</td>\n",
       "      <td>2017-11-20 21:41:00</td>\n",
       "      <td>3</td>\n",
       "      <td>2017-11-20 21:22:00</td>\n",
       "      <td>1760497825039238161</td>\n",
       "    </tr>\n",
       "    <tr>\n",
       "      <th>165043</th>\n",
       "      <td>touch</td>\n",
       "      <td>2017-11-24 12:42:00</td>\n",
       "      <td>9</td>\n",
       "      <td>2017-11-24 1</td>\n",
       "      <td></td>\n",
       "    </tr>\n",
       "  </tbody>\n",
       "</table>\n",
       "</div>"
      ],
      "text/plain": [
       "         Device               End Ts  Source Id             Start Ts  \\\n",
       "165039    touch  2018-01-07 15:13:00          4  2018-01-07 15:03:00   \n",
       "165040  desktop  2017-12-25 00:52:00          3  2017-12-25 00:47:00   \n",
       "165041  desktop  2017-06-09 10:57:00          3  2017-06-09 10:36:00   \n",
       "165042  desktop  2017-11-20 21:41:00          3  2017-11-20 21:22:00   \n",
       "165043    touch  2017-11-24 12:42:00          9         2017-11-24 1   \n",
       "\n",
       "                         Uid  \n",
       "165039  12723545635027880701  \n",
       "165040   8695443775189843440  \n",
       "165041  16785265129205842973  \n",
       "165042   1760497825039238161  \n",
       "165043                        "
      ]
     },
     "metadata": {},
     "output_type": "display_data"
    }
   ],
   "source": [
    "# Información general.\n",
    "print(\"Información general:\\n\")\n",
    "print(visitas.info())\n",
    "\n",
    "# Información estadística.\n",
    "print(\"\\nInformación estadística:\\n\")\n",
    "print(visitas.describe()) \n",
    "\n",
    "# Busca valores nulos.\n",
    "print(\"\\nValores nulos:\\n\") \n",
    "print(visitas.isna().sum())\n",
    "\n",
    "# Busca registros duplicados.\n",
    "print(f\"\\nRegistros duplicados: {visitas.duplicated().sum()}\") \n",
    "\n",
    "# Primeros 5 registros.\n",
    "print(\"\\nPrimeros 5 registros:\\n\")\n",
    "display(visitas.head())\n",
    "\n",
    "# Últimos 5 registros.\n",
    "print(\"\\nÚltimos 5 registros:\\n\")\n",
    "display(visitas.tail()) "
   ]
  },
  {
   "cell_type": "markdown",
   "metadata": {},
   "source": [
    "#### Observaciones:\n",
    "\n",
    "* Por convención se recomienda que los nombres de las columnas sean en formato \"snake_case\". Se recomienda también nombres más descriptivos para las columnas, de forma que faciliten su comprensión.\n",
    "* Cambiar tipos de datos:\n",
    "  - Columnas \"Start Ts\" y \"End Ts\" ---> a tipo datetime.\n",
    "  - Columna \"Source Id\" ---> a tipo str."
   ]
  },
  {
   "cell_type": "markdown",
   "metadata": {},
   "source": [
    "* #### DataFrame pedidos"
   ]
  },
  {
   "cell_type": "code",
   "execution_count": 4,
   "metadata": {},
   "outputs": [
    {
     "name": "stdout",
     "output_type": "stream",
     "text": [
      "Información general:\n",
      "\n",
      "<class 'pandas.core.frame.DataFrame'>\n",
      "RangeIndex: 50415 entries, 0 to 50414\n",
      "Data columns (total 3 columns):\n",
      " #   Column   Non-Null Count  Dtype  \n",
      "---  ------   --------------  -----  \n",
      " 0   Buy Ts   50415 non-null  object \n",
      " 1   Revenue  50415 non-null  float64\n",
      " 2   Uid      50415 non-null  uint64 \n",
      "dtypes: float64(1), object(1), uint64(1)\n",
      "memory usage: 1.2+ MB\n",
      "None\n",
      "\n",
      "Información estadística:\n",
      "\n",
      "            Revenue           Uid\n",
      "count  50415.000000  5.041500e+04\n",
      "mean       4.999647  9.098161e+18\n",
      "std       21.818359  5.285742e+18\n",
      "min        0.000000  3.135781e+14\n",
      "25%        1.220000  4.533567e+18\n",
      "50%        2.500000  9.102274e+18\n",
      "75%        4.890000  1.368290e+19\n",
      "max     2633.280000  1.844617e+19\n",
      "\n",
      "Valores nulos:\n",
      "\n",
      "Buy Ts     0\n",
      "Revenue    0\n",
      "Uid        0\n",
      "dtype: int64\n",
      "\n",
      "Registros duplicados: 0\n",
      "\n",
      "Primeros 5 registros:\n",
      "\n"
     ]
    },
    {
     "data": {
      "text/html": [
       "<div>\n",
       "<style scoped>\n",
       "    .dataframe tbody tr th:only-of-type {\n",
       "        vertical-align: middle;\n",
       "    }\n",
       "\n",
       "    .dataframe tbody tr th {\n",
       "        vertical-align: top;\n",
       "    }\n",
       "\n",
       "    .dataframe thead th {\n",
       "        text-align: right;\n",
       "    }\n",
       "</style>\n",
       "<table border=\"1\" class=\"dataframe\">\n",
       "  <thead>\n",
       "    <tr style=\"text-align: right;\">\n",
       "      <th></th>\n",
       "      <th>Buy Ts</th>\n",
       "      <th>Revenue</th>\n",
       "      <th>Uid</th>\n",
       "    </tr>\n",
       "  </thead>\n",
       "  <tbody>\n",
       "    <tr>\n",
       "      <th>0</th>\n",
       "      <td>2017-06-01 00:10:00</td>\n",
       "      <td>17.00</td>\n",
       "      <td>10329302124590727494</td>\n",
       "    </tr>\n",
       "    <tr>\n",
       "      <th>1</th>\n",
       "      <td>2017-06-01 00:25:00</td>\n",
       "      <td>0.55</td>\n",
       "      <td>11627257723692907447</td>\n",
       "    </tr>\n",
       "    <tr>\n",
       "      <th>2</th>\n",
       "      <td>2017-06-01 00:27:00</td>\n",
       "      <td>0.37</td>\n",
       "      <td>17903680561304213844</td>\n",
       "    </tr>\n",
       "    <tr>\n",
       "      <th>3</th>\n",
       "      <td>2017-06-01 00:29:00</td>\n",
       "      <td>0.55</td>\n",
       "      <td>16109239769442553005</td>\n",
       "    </tr>\n",
       "    <tr>\n",
       "      <th>4</th>\n",
       "      <td>2017-06-01 07:58:00</td>\n",
       "      <td>0.37</td>\n",
       "      <td>14200605875248379450</td>\n",
       "    </tr>\n",
       "  </tbody>\n",
       "</table>\n",
       "</div>"
      ],
      "text/plain": [
       "                Buy Ts  Revenue                   Uid\n",
       "0  2017-06-01 00:10:00    17.00  10329302124590727494\n",
       "1  2017-06-01 00:25:00     0.55  11627257723692907447\n",
       "2  2017-06-01 00:27:00     0.37  17903680561304213844\n",
       "3  2017-06-01 00:29:00     0.55  16109239769442553005\n",
       "4  2017-06-01 07:58:00     0.37  14200605875248379450"
      ]
     },
     "metadata": {},
     "output_type": "display_data"
    },
    {
     "name": "stdout",
     "output_type": "stream",
     "text": [
      "\n",
      "Últimos 5 registros:\n",
      "\n"
     ]
    },
    {
     "data": {
      "text/html": [
       "<div>\n",
       "<style scoped>\n",
       "    .dataframe tbody tr th:only-of-type {\n",
       "        vertical-align: middle;\n",
       "    }\n",
       "\n",
       "    .dataframe tbody tr th {\n",
       "        vertical-align: top;\n",
       "    }\n",
       "\n",
       "    .dataframe thead th {\n",
       "        text-align: right;\n",
       "    }\n",
       "</style>\n",
       "<table border=\"1\" class=\"dataframe\">\n",
       "  <thead>\n",
       "    <tr style=\"text-align: right;\">\n",
       "      <th></th>\n",
       "      <th>Buy Ts</th>\n",
       "      <th>Revenue</th>\n",
       "      <th>Uid</th>\n",
       "    </tr>\n",
       "  </thead>\n",
       "  <tbody>\n",
       "    <tr>\n",
       "      <th>50410</th>\n",
       "      <td>2018-05-31 23:50:00</td>\n",
       "      <td>4.64</td>\n",
       "      <td>12296626599487328624</td>\n",
       "    </tr>\n",
       "    <tr>\n",
       "      <th>50411</th>\n",
       "      <td>2018-05-31 23:50:00</td>\n",
       "      <td>5.80</td>\n",
       "      <td>11369640365507475976</td>\n",
       "    </tr>\n",
       "    <tr>\n",
       "      <th>50412</th>\n",
       "      <td>2018-05-31 23:54:00</td>\n",
       "      <td>0.30</td>\n",
       "      <td>1786462140797698849</td>\n",
       "    </tr>\n",
       "    <tr>\n",
       "      <th>50413</th>\n",
       "      <td>2018-05-31 23:56:00</td>\n",
       "      <td>3.67</td>\n",
       "      <td>3993697860786194247</td>\n",
       "    </tr>\n",
       "    <tr>\n",
       "      <th>50414</th>\n",
       "      <td>2018-06-01 00:02:00</td>\n",
       "      <td>3.42</td>\n",
       "      <td>83872787173869366</td>\n",
       "    </tr>\n",
       "  </tbody>\n",
       "</table>\n",
       "</div>"
      ],
      "text/plain": [
       "                    Buy Ts  Revenue                   Uid\n",
       "50410  2018-05-31 23:50:00     4.64  12296626599487328624\n",
       "50411  2018-05-31 23:50:00     5.80  11369640365507475976\n",
       "50412  2018-05-31 23:54:00     0.30   1786462140797698849\n",
       "50413  2018-05-31 23:56:00     3.67   3993697860786194247\n",
       "50414  2018-06-01 00:02:00     3.42     83872787173869366"
      ]
     },
     "metadata": {},
     "output_type": "display_data"
    }
   ],
   "source": [
    "# Información general.\n",
    "print(\"Información general:\\n\")\n",
    "print(pedidos.info())\n",
    "\n",
    "# Información estadística.\n",
    "print(\"\\nInformación estadística:\\n\")\n",
    "print(pedidos.describe())\n",
    "\n",
    "# Busca valores nulos.\n",
    "print(\"\\nValores nulos:\\n\") \n",
    "print(pedidos.isna().sum())\n",
    "\n",
    "# Busca registros duplicados.\n",
    "print(f\"\\nRegistros duplicados: {pedidos.duplicated().sum()}\") \n",
    "\n",
    "# Primeros 5 registros.\n",
    "print(\"\\nPrimeros 5 registros:\\n\")\n",
    "display(pedidos.head())\n",
    "\n",
    "# Últimos 5 registros.\n",
    "print(\"\\nÚltimos 5 registros:\\n\")\n",
    "display(pedidos.tail())"
   ]
  },
  {
   "cell_type": "markdown",
   "metadata": {},
   "source": [
    "#### Observaciones:\n",
    "\n",
    "* Por convención se recomienda que los nombres de las columnas sean en formato \"snake_case\". Se recomienda también nombres más descriptivos para las columnas, de forma que faciliten su comprensión.\n",
    "* Cambiar tipos de datos:\n",
    "  - Columna \"Buy Ts\" ---> a tipo datetime.\n",
    "  - Columna \"Uid\" ---> a tipo str.\n",
    "* Según los datos estadísticos, la columna \"Revenue\" tiene un valor mínimo de 0.0, por lo cual, se recomienda eliminar aquellos registros con estos valores, ya que nos enfocaremos en hacer análisis en pedidos que sí representen fuentes de ingreso. "
   ]
  },
  {
   "cell_type": "markdown",
   "metadata": {},
   "source": [
    "* #### DataFrame gastos"
   ]
  },
  {
   "cell_type": "code",
   "execution_count": 5,
   "metadata": {},
   "outputs": [
    {
     "name": "stdout",
     "output_type": "stream",
     "text": [
      "Información general:\n",
      "\n",
      "<class 'pandas.core.frame.DataFrame'>\n",
      "RangeIndex: 2542 entries, 0 to 2541\n",
      "Data columns (total 3 columns):\n",
      " #   Column     Non-Null Count  Dtype  \n",
      "---  ------     --------------  -----  \n",
      " 0   source_id  2542 non-null   int64  \n",
      " 1   dt         2542 non-null   object \n",
      " 2   costs      2542 non-null   float64\n",
      "dtypes: float64(1), int64(1), object(1)\n",
      "memory usage: 59.7+ KB\n",
      "None\n",
      "\n",
      "Información estadística:\n",
      "\n",
      "         source_id        costs\n",
      "count  2542.000000  2542.000000\n",
      "mean      4.857199   129.477427\n",
      "std       3.181581   156.296628\n",
      "min       1.000000     0.540000\n",
      "25%       2.000000    21.945000\n",
      "50%       4.000000    77.295000\n",
      "75%       9.000000   170.065000\n",
      "max      10.000000  1788.280000\n",
      "\n",
      "Valores nulos:\n",
      "\n",
      "source_id    0\n",
      "dt           0\n",
      "costs        0\n",
      "dtype: int64\n",
      "\n",
      "Registros duplicados: 0\n",
      "\n",
      "Primeros 5 registros:\n",
      "\n"
     ]
    },
    {
     "data": {
      "text/html": [
       "<div>\n",
       "<style scoped>\n",
       "    .dataframe tbody tr th:only-of-type {\n",
       "        vertical-align: middle;\n",
       "    }\n",
       "\n",
       "    .dataframe tbody tr th {\n",
       "        vertical-align: top;\n",
       "    }\n",
       "\n",
       "    .dataframe thead th {\n",
       "        text-align: right;\n",
       "    }\n",
       "</style>\n",
       "<table border=\"1\" class=\"dataframe\">\n",
       "  <thead>\n",
       "    <tr style=\"text-align: right;\">\n",
       "      <th></th>\n",
       "      <th>source_id</th>\n",
       "      <th>dt</th>\n",
       "      <th>costs</th>\n",
       "    </tr>\n",
       "  </thead>\n",
       "  <tbody>\n",
       "    <tr>\n",
       "      <th>0</th>\n",
       "      <td>1</td>\n",
       "      <td>2017-06-01</td>\n",
       "      <td>75.20</td>\n",
       "    </tr>\n",
       "    <tr>\n",
       "      <th>1</th>\n",
       "      <td>1</td>\n",
       "      <td>2017-06-02</td>\n",
       "      <td>62.25</td>\n",
       "    </tr>\n",
       "    <tr>\n",
       "      <th>2</th>\n",
       "      <td>1</td>\n",
       "      <td>2017-06-03</td>\n",
       "      <td>36.53</td>\n",
       "    </tr>\n",
       "    <tr>\n",
       "      <th>3</th>\n",
       "      <td>1</td>\n",
       "      <td>2017-06-04</td>\n",
       "      <td>55.00</td>\n",
       "    </tr>\n",
       "    <tr>\n",
       "      <th>4</th>\n",
       "      <td>1</td>\n",
       "      <td>2017-06-05</td>\n",
       "      <td>57.08</td>\n",
       "    </tr>\n",
       "  </tbody>\n",
       "</table>\n",
       "</div>"
      ],
      "text/plain": [
       "   source_id          dt  costs\n",
       "0          1  2017-06-01  75.20\n",
       "1          1  2017-06-02  62.25\n",
       "2          1  2017-06-03  36.53\n",
       "3          1  2017-06-04  55.00\n",
       "4          1  2017-06-05  57.08"
      ]
     },
     "metadata": {},
     "output_type": "display_data"
    },
    {
     "name": "stdout",
     "output_type": "stream",
     "text": [
      "\n",
      "Últimos 5 registros:\n",
      "\n"
     ]
    },
    {
     "data": {
      "text/html": [
       "<div>\n",
       "<style scoped>\n",
       "    .dataframe tbody tr th:only-of-type {\n",
       "        vertical-align: middle;\n",
       "    }\n",
       "\n",
       "    .dataframe tbody tr th {\n",
       "        vertical-align: top;\n",
       "    }\n",
       "\n",
       "    .dataframe thead th {\n",
       "        text-align: right;\n",
       "    }\n",
       "</style>\n",
       "<table border=\"1\" class=\"dataframe\">\n",
       "  <thead>\n",
       "    <tr style=\"text-align: right;\">\n",
       "      <th></th>\n",
       "      <th>source_id</th>\n",
       "      <th>dt</th>\n",
       "      <th>costs</th>\n",
       "    </tr>\n",
       "  </thead>\n",
       "  <tbody>\n",
       "    <tr>\n",
       "      <th>2537</th>\n",
       "      <td>10</td>\n",
       "      <td>2018-05-27</td>\n",
       "      <td>9.92</td>\n",
       "    </tr>\n",
       "    <tr>\n",
       "      <th>2538</th>\n",
       "      <td>10</td>\n",
       "      <td>2018-05-28</td>\n",
       "      <td>21.26</td>\n",
       "    </tr>\n",
       "    <tr>\n",
       "      <th>2539</th>\n",
       "      <td>10</td>\n",
       "      <td>2018-05-29</td>\n",
       "      <td>11.32</td>\n",
       "    </tr>\n",
       "    <tr>\n",
       "      <th>2540</th>\n",
       "      <td>10</td>\n",
       "      <td>2018-05-30</td>\n",
       "      <td>33.15</td>\n",
       "    </tr>\n",
       "    <tr>\n",
       "      <th>2541</th>\n",
       "      <td>10</td>\n",
       "      <td>2018-05-31</td>\n",
       "      <td>17.60</td>\n",
       "    </tr>\n",
       "  </tbody>\n",
       "</table>\n",
       "</div>"
      ],
      "text/plain": [
       "      source_id          dt  costs\n",
       "2537         10  2018-05-27   9.92\n",
       "2538         10  2018-05-28  21.26\n",
       "2539         10  2018-05-29  11.32\n",
       "2540         10  2018-05-30  33.15\n",
       "2541         10  2018-05-31  17.60"
      ]
     },
     "metadata": {},
     "output_type": "display_data"
    }
   ],
   "source": [
    "# Información general.\n",
    "print(\"Información general:\\n\")\n",
    "print(gastos.info())\n",
    "\n",
    "# Información estadística.\n",
    "print(\"\\nInformación estadística:\\n\")\n",
    "print(gastos.describe())\n",
    "\n",
    "# Busca valores nulos.\n",
    "print(\"\\nValores nulos:\\n\") \n",
    "print(gastos.isna().sum())\n",
    "\n",
    "# Busca registros duplicados.\n",
    "print(f\"\\nRegistros duplicados: {gastos.duplicated().sum()}\") \n",
    "\n",
    "# Primeros 5 registros.\n",
    "print(\"\\nPrimeros 5 registros:\\n\")\n",
    "display(gastos.head())\n",
    "\n",
    "# Últimos 5 registros.\n",
    "print(\"\\nÚltimos 5 registros:\\n\")\n",
    "display(gastos.tail()) # Últimos 5 registros."
   ]
  },
  {
   "cell_type": "markdown",
   "metadata": {},
   "source": [
    "#### Observaciones generales:\n",
    "\n",
    "* Por convención se recomienda que los nombres de las columnas sean en formato \"snake_case\". Se recomienda también un nombre más descriptivos para la columna \"dt\", de forma que facilite su comprensión.\n",
    "* Cambiar tipos de datos:\n",
    "  - Columna \"source_id\" ---> a tipo str.\n",
    "  - Columna \"dt\" ---> a tipo datetime.\n"
   ]
  },
  {
   "cell_type": "markdown",
   "metadata": {},
   "source": [
    "### Limpieza de datos"
   ]
  },
  {
   "cell_type": "markdown",
   "metadata": {},
   "source": [
    "* #### DataFrame visitas"
   ]
  },
  {
   "cell_type": "code",
   "execution_count": 6,
   "metadata": {},
   "outputs": [
    {
     "name": "stdout",
     "output_type": "stream",
     "text": [
      "<class 'pandas.core.frame.DataFrame'>\n",
      "Int64Index: 148551 entries, 0 to 165042\n",
      "Data columns (total 6 columns):\n",
      " #   Column      Non-Null Count   Dtype          \n",
      "---  ------      --------------   -----          \n",
      " 0   start_time  148551 non-null  datetime64[ns] \n",
      " 1   end_time    148551 non-null  datetime64[ns] \n",
      " 2   duration    148551 non-null  timedelta64[ns]\n",
      " 3   device      148551 non-null  object         \n",
      " 4   source_id   148551 non-null  object         \n",
      " 5   user_id     148551 non-null  object         \n",
      "dtypes: datetime64[ns](2), object(3), timedelta64[ns](1)\n",
      "memory usage: 7.9+ MB\n",
      "None\n",
      "                        duration\n",
      "count                     148551\n",
      "mean   0 days 00:11:52.266898236\n",
      "std    0 days 00:16:57.615726039\n",
      "min              0 days 00:01:00\n",
      "25%              0 days 00:02:00\n",
      "50%              0 days 00:06:00\n",
      "75%              0 days 00:15:00\n",
      "max              0 days 09:02:00\n"
     ]
    },
    {
     "data": {
      "text/html": [
       "<div>\n",
       "<style scoped>\n",
       "    .dataframe tbody tr th:only-of-type {\n",
       "        vertical-align: middle;\n",
       "    }\n",
       "\n",
       "    .dataframe tbody tr th {\n",
       "        vertical-align: top;\n",
       "    }\n",
       "\n",
       "    .dataframe thead th {\n",
       "        text-align: right;\n",
       "    }\n",
       "</style>\n",
       "<table border=\"1\" class=\"dataframe\">\n",
       "  <thead>\n",
       "    <tr style=\"text-align: right;\">\n",
       "      <th></th>\n",
       "      <th>start_time</th>\n",
       "      <th>end_time</th>\n",
       "      <th>duration</th>\n",
       "      <th>device</th>\n",
       "      <th>source_id</th>\n",
       "      <th>user_id</th>\n",
       "    </tr>\n",
       "  </thead>\n",
       "  <tbody>\n",
       "    <tr>\n",
       "      <th>0</th>\n",
       "      <td>2017-12-20 17:20:00</td>\n",
       "      <td>2017-12-20 17:38:00</td>\n",
       "      <td>0 days 00:18:00</td>\n",
       "      <td>touch</td>\n",
       "      <td>4</td>\n",
       "      <td>16879256277535980062</td>\n",
       "    </tr>\n",
       "    <tr>\n",
       "      <th>1</th>\n",
       "      <td>2018-02-19 16:53:00</td>\n",
       "      <td>2018-02-19 17:21:00</td>\n",
       "      <td>0 days 00:28:00</td>\n",
       "      <td>desktop</td>\n",
       "      <td>2</td>\n",
       "      <td>104060357244891740</td>\n",
       "    </tr>\n",
       "    <tr>\n",
       "      <th>3</th>\n",
       "      <td>2018-05-20 10:59:00</td>\n",
       "      <td>2018-05-20 11:23:00</td>\n",
       "      <td>0 days 00:24:00</td>\n",
       "      <td>desktop</td>\n",
       "      <td>9</td>\n",
       "      <td>16174680259334210214</td>\n",
       "    </tr>\n",
       "    <tr>\n",
       "      <th>5</th>\n",
       "      <td>2017-09-03 21:35:00</td>\n",
       "      <td>2017-09-03 21:36:00</td>\n",
       "      <td>0 days 00:01:00</td>\n",
       "      <td>desktop</td>\n",
       "      <td>5</td>\n",
       "      <td>16007536194108375387</td>\n",
       "    </tr>\n",
       "    <tr>\n",
       "      <th>6</th>\n",
       "      <td>2018-01-30 11:13:00</td>\n",
       "      <td>2018-01-30 12:09:00</td>\n",
       "      <td>0 days 00:56:00</td>\n",
       "      <td>desktop</td>\n",
       "      <td>1</td>\n",
       "      <td>6661610529277171451</td>\n",
       "    </tr>\n",
       "  </tbody>\n",
       "</table>\n",
       "</div>"
      ],
      "text/plain": [
       "           start_time            end_time        duration   device source_id  \\\n",
       "0 2017-12-20 17:20:00 2017-12-20 17:38:00 0 days 00:18:00    touch         4   \n",
       "1 2018-02-19 16:53:00 2018-02-19 17:21:00 0 days 00:28:00  desktop         2   \n",
       "3 2018-05-20 10:59:00 2018-05-20 11:23:00 0 days 00:24:00  desktop         9   \n",
       "5 2017-09-03 21:35:00 2017-09-03 21:36:00 0 days 00:01:00  desktop         5   \n",
       "6 2018-01-30 11:13:00 2018-01-30 12:09:00 0 days 00:56:00  desktop         1   \n",
       "\n",
       "                user_id  \n",
       "0  16879256277535980062  \n",
       "1    104060357244891740  \n",
       "3  16174680259334210214  \n",
       "5  16007536194108375387  \n",
       "6   6661610529277171451  "
      ]
     },
     "metadata": {},
     "output_type": "display_data"
    }
   ],
   "source": [
    "# Estandariza nombres de los campos.\n",
    "visitas.columns = visitas.columns.str.replace(\" \", \"_\").str.lower()\n",
    "\n",
    "# Renombra columnas.\n",
    "visitas.rename(columns={\"end_ts\": \"end_time\", \"start_ts\": \"start_time\", \"uid\": \"user_id\"}, inplace=True)\n",
    "\n",
    "# Cambia el tipo de dato de la columna \"source_id\" a tipo str.\n",
    "visitas[\"source_id\"] = visitas[\"source_id\"].astype(str)\n",
    "\n",
    "# Cambia el tipo de dato de las columnas \"start_time\" y \"end_time\" a tipo datetime.\n",
    "visitas[\"start_time\"] = pd.to_datetime(visitas[\"start_time\"], errors=\"coerce\")\n",
    "visitas[\"end_time\"] = pd.to_datetime(visitas[\"end_time\"], errors=\"coerce\")\n",
    "\n",
    "# Crea la columna \"duration\" con la duración de las sesiones.\n",
    "visitas[\"duration\"] = visitas[\"end_time\"] - visitas[\"start_time\"]\n",
    "\n",
    "# Conserva los registros cuyas sesiones son mayor a 10 segundos.\n",
    "visitas = visitas.loc[visitas[\"duration\"] > pd.Timedelta(seconds=10)]\n",
    "\n",
    "# # Crea la columna \"date\" y extrae la fecha.\n",
    "# visitas[\"date\"] = visitas[\"start_time\"].dt.date\n",
    "\n",
    "# Cambia el orden de las columnas.\n",
    "columnas_ordenadas_visitas = [\"start_time\", \"end_time\", \"duration\", \"device\", \"source_id\", \"user_id\"]\n",
    "visitas = visitas[columnas_ordenadas_visitas]\n",
    "\n",
    "# Verifica los cambios realizados.\n",
    "print(visitas.info())\n",
    "print(visitas.describe())\n",
    "display(visitas.head())"
   ]
  },
  {
   "cell_type": "markdown",
   "metadata": {},
   "source": [
    "* Se corrigieron tipos de datos.  \n",
    "* Se creó una nueva columna \"duration\" que almacena la duración de cada sesión.\n",
    "* Se cambió el orden de las columnas para mantener un orden lógico."
   ]
  },
  {
   "cell_type": "markdown",
   "metadata": {},
   "source": [
    "* #### DataFrame pedidos "
   ]
  },
  {
   "cell_type": "code",
   "execution_count": 7,
   "metadata": {},
   "outputs": [
    {
     "name": "stdout",
     "output_type": "stream",
     "text": [
      "<class 'pandas.core.frame.DataFrame'>\n",
      "Int64Index: 50364 entries, 0 to 50414\n",
      "Data columns (total 4 columns):\n",
      " #   Column    Non-Null Count  Dtype         \n",
      "---  ------    --------------  -----         \n",
      " 0   buy_date  50364 non-null  object        \n",
      " 1   buy_time  50364 non-null  datetime64[ns]\n",
      " 2   revenue   50364 non-null  float64       \n",
      " 3   user_id   50364 non-null  object        \n",
      "dtypes: datetime64[ns](1), float64(1), object(2)\n",
      "memory usage: 1.9+ MB\n",
      "None\n",
      "            revenue\n",
      "count  50364.000000\n",
      "mean       5.004710\n",
      "std       21.828823\n",
      "min        0.010000\n",
      "25%        1.220000\n",
      "50%        2.500000\n",
      "75%        4.890000\n",
      "max     2633.280000\n"
     ]
    },
    {
     "data": {
      "text/html": [
       "<div>\n",
       "<style scoped>\n",
       "    .dataframe tbody tr th:only-of-type {\n",
       "        vertical-align: middle;\n",
       "    }\n",
       "\n",
       "    .dataframe tbody tr th {\n",
       "        vertical-align: top;\n",
       "    }\n",
       "\n",
       "    .dataframe thead th {\n",
       "        text-align: right;\n",
       "    }\n",
       "</style>\n",
       "<table border=\"1\" class=\"dataframe\">\n",
       "  <thead>\n",
       "    <tr style=\"text-align: right;\">\n",
       "      <th></th>\n",
       "      <th>buy_date</th>\n",
       "      <th>buy_time</th>\n",
       "      <th>revenue</th>\n",
       "      <th>user_id</th>\n",
       "    </tr>\n",
       "  </thead>\n",
       "  <tbody>\n",
       "    <tr>\n",
       "      <th>0</th>\n",
       "      <td>2017-06-01</td>\n",
       "      <td>2017-06-01 00:10:00</td>\n",
       "      <td>17.00</td>\n",
       "      <td>10329302124590727494</td>\n",
       "    </tr>\n",
       "    <tr>\n",
       "      <th>1</th>\n",
       "      <td>2017-06-01</td>\n",
       "      <td>2017-06-01 00:25:00</td>\n",
       "      <td>0.55</td>\n",
       "      <td>11627257723692907447</td>\n",
       "    </tr>\n",
       "    <tr>\n",
       "      <th>2</th>\n",
       "      <td>2017-06-01</td>\n",
       "      <td>2017-06-01 00:27:00</td>\n",
       "      <td>0.37</td>\n",
       "      <td>17903680561304213844</td>\n",
       "    </tr>\n",
       "    <tr>\n",
       "      <th>3</th>\n",
       "      <td>2017-06-01</td>\n",
       "      <td>2017-06-01 00:29:00</td>\n",
       "      <td>0.55</td>\n",
       "      <td>16109239769442553005</td>\n",
       "    </tr>\n",
       "    <tr>\n",
       "      <th>4</th>\n",
       "      <td>2017-06-01</td>\n",
       "      <td>2017-06-01 07:58:00</td>\n",
       "      <td>0.37</td>\n",
       "      <td>14200605875248379450</td>\n",
       "    </tr>\n",
       "  </tbody>\n",
       "</table>\n",
       "</div>"
      ],
      "text/plain": [
       "     buy_date            buy_time  revenue               user_id\n",
       "0  2017-06-01 2017-06-01 00:10:00    17.00  10329302124590727494\n",
       "1  2017-06-01 2017-06-01 00:25:00     0.55  11627257723692907447\n",
       "2  2017-06-01 2017-06-01 00:27:00     0.37  17903680561304213844\n",
       "3  2017-06-01 2017-06-01 00:29:00     0.55  16109239769442553005\n",
       "4  2017-06-01 2017-06-01 07:58:00     0.37  14200605875248379450"
      ]
     },
     "metadata": {},
     "output_type": "display_data"
    }
   ],
   "source": [
    "# Estandariza nombres de los campos.\n",
    "pedidos.columns = pedidos.columns.str.replace(\" \", \"_\").str.lower()\n",
    "\n",
    "# Renombra columnas.\n",
    "pedidos.rename(columns={\"buy_ts\": \"buy_time\", \"uid\": \"user_id\"}, inplace=True)\n",
    "\n",
    "# Cambia el tipo de dato de la columna \"user_id\" a tipo str.\n",
    "pedidos[\"user_id\"] = pedidos[\"user_id\"].astype(str)\n",
    "# Cambia el tipo de dato de la columna \"buy_time\" a tipo datetime.\n",
    "pedidos[\"buy_time\"] = pd.to_datetime(pedidos[\"buy_time\"])\n",
    "\n",
    "# Crea la columna \"buy_date\" y extrae la fecha.\n",
    "pedidos[\"buy_date\"] = pedidos[\"buy_time\"].dt.date\n",
    "\n",
    "# Conserva los registros donde las ganancias (\"revenue\") son mayor a 0.\n",
    "pedidos = pedidos.loc[pedidos[\"revenue\"] > 0]\n",
    "\n",
    "# Cambia el orden de las columnas.\n",
    "columnas_ordenadas_pedidos = [\"buy_date\", \"buy_time\", \"revenue\", \"user_id\"]\n",
    "pedidos = pedidos[columnas_ordenadas_pedidos]\n",
    "\n",
    "# Verifica los cambios realizados.\n",
    "print(pedidos.info())\n",
    "print(pedidos.describe())\n",
    "display(pedidos.head())"
   ]
  },
  {
   "cell_type": "markdown",
   "metadata": {},
   "source": [
    "* Se creó una nueva columna \"buy_date\" para separar la fecha del tiempo.\n",
    "* Se cambió el orden de las columnas para mantener un orden lógico.\n",
    "* Se eliminaron los registros donde no hubo ganancias."
   ]
  },
  {
   "cell_type": "markdown",
   "metadata": {},
   "source": [
    "* #### DataFrame gastos"
   ]
  },
  {
   "cell_type": "code",
   "execution_count": 8,
   "metadata": {},
   "outputs": [
    {
     "name": "stdout",
     "output_type": "stream",
     "text": [
      "<class 'pandas.core.frame.DataFrame'>\n",
      "RangeIndex: 2542 entries, 0 to 2541\n",
      "Data columns (total 3 columns):\n",
      " #   Column     Non-Null Count  Dtype         \n",
      "---  ------     --------------  -----         \n",
      " 0   source_id  2542 non-null   object        \n",
      " 1   date       2542 non-null   datetime64[ns]\n",
      " 2   costs      2542 non-null   float64       \n",
      "dtypes: datetime64[ns](1), float64(1), object(1)\n",
      "memory usage: 59.7+ KB\n",
      "None\n",
      "             costs\n",
      "count  2542.000000\n",
      "mean    129.477427\n",
      "std     156.296628\n",
      "min       0.540000\n",
      "25%      21.945000\n",
      "50%      77.295000\n",
      "75%     170.065000\n",
      "max    1788.280000\n"
     ]
    },
    {
     "data": {
      "text/html": [
       "<div>\n",
       "<style scoped>\n",
       "    .dataframe tbody tr th:only-of-type {\n",
       "        vertical-align: middle;\n",
       "    }\n",
       "\n",
       "    .dataframe tbody tr th {\n",
       "        vertical-align: top;\n",
       "    }\n",
       "\n",
       "    .dataframe thead th {\n",
       "        text-align: right;\n",
       "    }\n",
       "</style>\n",
       "<table border=\"1\" class=\"dataframe\">\n",
       "  <thead>\n",
       "    <tr style=\"text-align: right;\">\n",
       "      <th></th>\n",
       "      <th>source_id</th>\n",
       "      <th>date</th>\n",
       "      <th>costs</th>\n",
       "    </tr>\n",
       "  </thead>\n",
       "  <tbody>\n",
       "    <tr>\n",
       "      <th>0</th>\n",
       "      <td>1</td>\n",
       "      <td>2017-06-01</td>\n",
       "      <td>75.20</td>\n",
       "    </tr>\n",
       "    <tr>\n",
       "      <th>1</th>\n",
       "      <td>1</td>\n",
       "      <td>2017-06-02</td>\n",
       "      <td>62.25</td>\n",
       "    </tr>\n",
       "    <tr>\n",
       "      <th>2</th>\n",
       "      <td>1</td>\n",
       "      <td>2017-06-03</td>\n",
       "      <td>36.53</td>\n",
       "    </tr>\n",
       "    <tr>\n",
       "      <th>3</th>\n",
       "      <td>1</td>\n",
       "      <td>2017-06-04</td>\n",
       "      <td>55.00</td>\n",
       "    </tr>\n",
       "    <tr>\n",
       "      <th>4</th>\n",
       "      <td>1</td>\n",
       "      <td>2017-06-05</td>\n",
       "      <td>57.08</td>\n",
       "    </tr>\n",
       "  </tbody>\n",
       "</table>\n",
       "</div>"
      ],
      "text/plain": [
       "  source_id       date  costs\n",
       "0         1 2017-06-01  75.20\n",
       "1         1 2017-06-02  62.25\n",
       "2         1 2017-06-03  36.53\n",
       "3         1 2017-06-04  55.00\n",
       "4         1 2017-06-05  57.08"
      ]
     },
     "metadata": {},
     "output_type": "display_data"
    }
   ],
   "source": [
    "# Cambia el nombre de la columna \"dt\" a \"date\".\n",
    "gastos.rename(columns={\"dt\": \"date\"}, inplace=True)\n",
    "\n",
    "# Cambia el tipo de dato de la columna \"source_id\" a tipo str.\n",
    "gastos[\"source_id\"] = gastos[\"source_id\"].astype(str)\n",
    "\n",
    "# Cambia el tipo de dato de la columna \"date\" a tipo datetime.\n",
    "gastos[\"date\"] = pd.to_datetime(gastos[\"date\"])\n",
    "\n",
    "# Verifica los cambios realizados.\n",
    "print(gastos.info())\n",
    "print(gastos.describe())\n",
    "display(gastos.head())"
   ]
  },
  {
   "cell_type": "markdown",
   "metadata": {},
   "source": [
    "<div class=\"alert alert-block alert-success\">\n",
    "<b>Comentario del revisor (1ra Iteracion)</b> <a class=“tocSkip”></a>\n",
    "\n",
    "Muy buen trabajo con el análisis inicial de tus dataset, siempre es importante primero revisar la calidad de los datos y el tipo de los mismos antes de pasar a cualquier análisis\n",
    "</div>"
   ]
  },
  {
   "cell_type": "markdown",
   "metadata": {},
   "source": [
    "## **Paso 2. Haz informes y calcula métricas**"
   ]
  },
  {
   "cell_type": "markdown",
   "metadata": {},
   "source": [
    "* #### Visitas"
   ]
  },
  {
   "cell_type": "markdown",
   "metadata": {},
   "source": [
    "#### 1. ¿Cuántas personas lo usan cada día, semana y mes?"
   ]
  },
  {
   "cell_type": "code",
   "execution_count": 9,
   "metadata": {},
   "outputs": [
    {
     "name": "stdout",
     "output_type": "stream",
     "text": [
      "Visitas de usuarios únicos por día: 397 visitas.\n",
      "Visitas de usuarios únicos por mes: 10938 visitas.\n",
      "Visitas de usuarios únicos por año: 61023 visitas.\n"
     ]
    }
   ],
   "source": [
    "# Crea la columna \"date\".\n",
    "visitas[\"date\"] = pd.to_datetime(visitas[\"start_time\"].dt.date)\n",
    "\n",
    "# Agrupa por día, mes y año y cuenta usuarios únicos.\n",
    "visitas_por_dia = visitas.groupby(\"date\")[\"user_id\"].nunique().reset_index(name=\"num_visits\")\n",
    "visitas_por_mes = visitas.groupby(visitas[\"date\"].dt.to_period(\"M\"))[\"user_id\"].nunique().reset_index(name=\"num_visits\")\n",
    "visitas_por_año = visitas.groupby(visitas[\"date\"].dt.year)[\"user_id\"].nunique().reset_index(name=\"num_visits\")\n",
    "\n",
    "# Imprime resultados.\n",
    "print(f\"Visitas de usuarios únicos por día: {round(visitas_por_dia['num_visits'].mean())} visitas.\")\n",
    "print(f\"Visitas de usuarios únicos por mes: {round(visitas_por_mes['num_visits'].mean())} visitas.\")\n",
    "print(f\"Visitas de usuarios únicos por año: {round(visitas_por_año['num_visits'].mean())} visitas.\")"
   ]
  },
  {
   "cell_type": "markdown",
   "metadata": {},
   "source": [
    "<div class=\"alert alert-block alert-warning\">\n",
    "<b>Comentario del revisor (1ra Iteracion)</b> <a class=“tocSkip”></a>\n",
    "\n",
    "Buen trabajo con el cálculo! Está muy bien mostrar los promedios para este tipo de métrica, pero si la tabla tiene muchos datos y estos datos están ligados a fechas también se podría utilizar gráficas de líneas para poder explicar mejor los resultados y utilizar todos ellos\n",
    "</div>"
   ]
  },
  {
   "cell_type": "markdown",
   "metadata": {},
   "source": [
    "#### 2.- ¿Cuántas sesiones hay por día? (Un usuario puede tener más de una sesión)."
   ]
  },
  {
   "cell_type": "code",
   "execution_count": 10,
   "metadata": {},
   "outputs": [
    {
     "name": "stdout",
     "output_type": "stream",
     "text": [
      "Sesiones por día: 408.10714285714283\n"
     ]
    }
   ],
   "source": [
    "# Agrupa por día y cuenta la cantidad de usuarios que hicieron sesión.\n",
    "sesiones_por_dia = visitas.groupby(visitas[\"date\"])[\"user_id\"].count().reset_index(name=\"num_visits\")\n",
    "\n",
    "# Imprime el resultado.\n",
    "print(f\"Sesiones por día: {(sesiones_por_dia['num_visits'].mean())}\")"
   ]
  },
  {
   "cell_type": "markdown",
   "metadata": {},
   "source": [
    "#### 3.- ¿Cuál es la duración de cada sesión?"
   ]
  },
  {
   "cell_type": "code",
   "execution_count": 11,
   "metadata": {},
   "outputs": [
    {
     "name": "stdout",
     "output_type": "stream",
     "text": [
      "El promedio de las sesiones es de: 0 days 00:11:52\n"
     ]
    }
   ],
   "source": [
    "# Calcula el promedio de la duración de las sesiones.\n",
    "duracion_sesiones = visitas[\"duration\"].mean().round(\"S\") \n",
    "\n",
    "# Imprime el resultado.\n",
    "print(f\"El promedio de las sesiones es de: {str(duracion_sesiones)}\")"
   ]
  },
  {
   "cell_type": "markdown",
   "metadata": {},
   "source": [
    "#### 4.- ¿Con qué frecuencia los usuarios regresan?"
   ]
  },
  {
   "cell_type": "code",
   "execution_count": 12,
   "metadata": {},
   "outputs": [
    {
     "name": "stdout",
     "output_type": "stream",
     "text": [
      "Los usuarios regresan en promedio cada 38 días.\n"
     ]
    }
   ],
   "source": [
    "# Agrupa las visitas por usuario y fecha, y cuenta cuántas visitas hizo cada usuario por día.\n",
    "# Luego ordena por \"user_id\" y \"date\" para que las fechas estén en orden cronológico por usuario.\n",
    "frecuencia_visitas = visitas.groupby([\"user_id\", \"date\"]).size().reset_index(name=\"daily_visits\").sort_values(by=[\"user_id\", \"date\"])\n",
    "\n",
    "# Calcula cuántos días pasaron desde la visita anterior para cada usuario.\n",
    "# diff() compara cada fila con la anterior dentro del mismo grupo de usuario,\n",
    "# y dt.days convierte esa diferencia a número de días.\n",
    "frecuencia_visitas[\"days_since_last_visit\"] = (frecuencia_visitas.groupby(\"user_id\")[\"date\"].diff().dt.days)\n",
    "\n",
    "# Calcula el promedio general de días entre visitas (ignora los NaN automáticamente).\n",
    "# Redondea el resultado al número entero más cercano.\n",
    "frecuencia_promedio = round(frecuencia_visitas[\"days_since_last_visit\"].mean())\n",
    "\n",
    "# Imprime el resultado.\n",
    "print(f\"Los usuarios regresan en promedio cada {frecuencia_promedio} días.\")"
   ]
  },
  {
   "cell_type": "markdown",
   "metadata": {},
   "source": [
    "* #### Ventas"
   ]
  },
  {
   "cell_type": "markdown",
   "metadata": {},
   "source": [
    "#### 1.- ¿Cuándo empieza la gente a comprar?"
   ]
  },
  {
   "cell_type": "code",
   "execution_count": 13,
   "metadata": {},
   "outputs": [
    {
     "name": "stdout",
     "output_type": "stream",
     "text": [
      "El promedio de días hasta la compra es: 17 días.\n"
     ]
    }
   ],
   "source": [
    "# Obtiene la primera fecha de visita (registro) por usuario y renombrar la columna.\n",
    "primer_visita = visitas.groupby(\"user_id\")[\"date\"].min().reset_index().rename(columns={\"date\": \"signup_date\"})\n",
    "\n",
    "# Obtiene la primera fecha de compra por usuario.\n",
    "primer_compra = pedidos.groupby(\"user_id\")[\"buy_date\"].min().reset_index()\n",
    "\n",
    "# Une ambos DataFrames para obtener solo usuarios con visita y compra.\n",
    "conversiones = primer_visita.merge(primer_compra, on=\"user_id\", how=\"inner\")\n",
    "\n",
    "# Filtra para mantener solo casos donde la compra ocurrió en o después de la fecha de registro.\n",
    "conversiones = conversiones[conversiones[\"buy_date\"] >= conversiones[\"signup_date\"]]\n",
    "\n",
    "# Convierte la columna \"buy_date\" a tipo datetime para operaciones de fecha.\n",
    "conversiones[\"buy_date\"] = pd.to_datetime(conversiones[\"buy_date\"])\n",
    "\n",
    "# Calcula la diferencia en días entre la compra y el registro.\n",
    "conversiones[\"days_until_purchase\"] = (conversiones[\"buy_date\"] - conversiones[\"signup_date\"]).dt.days\n",
    "\n",
    "frecuencia_compras = round(conversiones[\"days_until_purchase\"].mean())\n",
    "print(f\"El promedio de días hasta la compra es: {frecuencia_compras} días.\")"
   ]
  },
  {
   "cell_type": "markdown",
   "metadata": {},
   "source": [
    "#### 2.- ¿Cuántos pedidos hacen durante un período de tiempo dado?"
   ]
  },
  {
   "cell_type": "code",
   "execution_count": 14,
   "metadata": {},
   "outputs": [
    {
     "name": "stdout",
     "output_type": "stream",
     "text": [
      "Promedio de pedidos por día: 138\n",
      "Promedio de pedidos por mes: 3874\n",
      "Promedio de pedidos por año: 25182\n"
     ]
    }
   ],
   "source": [
    "# Convierte la columna \"buy_date\" a tipo datetime.\n",
    "pedidos[\"buy_date\"] = pd.to_datetime(pedidos[\"buy_date\"])\n",
    "\n",
    "# Agrupa los pedidos por día y cuenta cuántos hay por cada fecha.\n",
    "pedidos_por_dia = pedidos.groupby(\"buy_date\").size().reset_index(name=\"total_orders\")\n",
    "\n",
    "# Crea una nueva columna con el mes y año como período (ej. 2018-06).\n",
    "pedidos[\"month\"] = pedidos[\"buy_date\"].dt.to_period(\"M\")\n",
    "\n",
    "# Agrupa por mes y cuenta los pedidos.\n",
    "pedidos_por_mes = pedidos.groupby(\"month\").size().reset_index(name=\"total_orders\")\n",
    "\n",
    "# Crea una columna con el año de cada pedido.\n",
    "pedidos[\"año\"] = pedidos[\"buy_date\"].dt.year\n",
    "\n",
    "# Agrupa por año y cuenta los pedidos.\n",
    "pedidos_por_año = pedidos.groupby(\"año\").size().reset_index(name=\"total_orders\")\n",
    "\n",
    "# Imprime resultados.\n",
    "print(f\"Promedio de pedidos por día: {round(pedidos_por_dia['total_orders'].mean())}\")\n",
    "print(f\"Promedio de pedidos por mes: {round(pedidos_por_mes['total_orders'].mean())}\")\n",
    "print(f\"Promedio de pedidos por año: {round(pedidos_por_año['total_orders'].mean())}\")"
   ]
  },
  {
   "cell_type": "markdown",
   "metadata": {},
   "source": [
    "#### 3.- ¿Cuál es el tamaño promedio de compra?"
   ]
  },
  {
   "cell_type": "code",
   "execution_count": 15,
   "metadata": {},
   "outputs": [
    {
     "name": "stdout",
     "output_type": "stream",
     "text": [
      "El promedio de ingresos por usuario es: $6.9\n"
     ]
    }
   ],
   "source": [
    "ingreso_por_usuario = pedidos.groupby(\"user_id\", as_index=False)[\"revenue\"].sum()\n",
    "print(f\"El promedio de ingresos por usuario es: ${round(ingreso_por_usuario['revenue'].mean(), 2)}\")"
   ]
  },
  {
   "cell_type": "markdown",
   "metadata": {},
   "source": [
    "#### 4.- ¿Cuánto dinero traen? (LTV)"
   ]
  },
  {
   "cell_type": "code",
   "execution_count": 16,
   "metadata": {},
   "outputs": [
    {
     "name": "stdout",
     "output_type": "stream",
     "text": [
      "LTV promedio: $1389\n"
     ]
    }
   ],
   "source": [
    "# Suma total de ingresos por usuario.\n",
    "ingresos_por_usuario = pedidos.groupby(\"user_id\")[\"revenue\"].sum().reset_index(name=\"total_revenue\")\n",
    "\n",
    "# Fecha primera y última compra por usuario.\n",
    "primer_ultima_compra = pedidos.groupby(\"user_id\")[\"buy_date\"].agg([\"min\", \"max\"]).reset_index()\n",
    "primer_ultima_compra.rename(columns={\"min\": \"first_purchase\", \"max\": \"last_purchase\"}, inplace=True)\n",
    "\n",
    "# Calcula días activos por usuario.\n",
    "primer_ultima_compra[\"active_days\"] = (primer_ultima_compra[\"last_purchase\"] - primer_ultima_compra[\"first_purchase\"]).dt.days + 1\n",
    "\n",
    "# Une ingresos con días activos.\n",
    "ltv_data = ingresos_por_usuario.merge(primer_ultima_compra[[\"user_id\", \"active_days\"]], on=\"user_id\")\n",
    "\n",
    "# Calcula ingreso promedio diario por usuario.\n",
    "ltv_data[\"revenue_per_day\"] = ltv_data[\"total_revenue\"] / ltv_data[\"active_days\"]\n",
    "\n",
    "# Suponiendo una duración esperada (ejemplo: 365 días), calcula LTV.\n",
    "duracion_esperada = 365.\n",
    "ltv_data[\"ltv\"] = ltv_data[\"revenue_per_day\"] * duracion_esperada\n",
    "\n",
    "print(f\"LTV promedio: ${round(ltv_data['ltv'].mean())}\")"
   ]
  },
  {
   "cell_type": "markdown",
   "metadata": {},
   "source": [
    "<div class=\"alert alert-block alert-warning\">\n",
    "<b>Comentario del revisor (1ra Iteracion)</b> <a class=“tocSkip”></a>\n",
    "\n",
    "Los cálculos realizados en esta parte están correctos, pero en este tipo de análisis que son algo complejos con las métricas de negocio siempre es mejor buscar apoyarse en el uso de gráficas que expliquen de manera visual lo que se quiere comunicar\n",
    "</div>"
   ]
  },
  {
   "cell_type": "markdown",
   "metadata": {},
   "source": [
    "* #### Marketing"
   ]
  },
  {
   "cell_type": "markdown",
   "metadata": {},
   "source": [
    "#### 1.- ¿Cuánto dinero se gastó?  (Total/por fuente de adquisición/a lo largo del tiempo) "
   ]
  },
  {
   "cell_type": "code",
   "execution_count": 17,
   "metadata": {},
   "outputs": [
    {
     "data": {
      "image/png": "[encoded data removed]",
      "text/plain": [
       "<Figure size 1000x600 with 1 Axes>"
      ]
     },
     "metadata": {},
     "output_type": "display_data"
    }
   ],
   "source": [
    "gastos_por_fuente = gastos.groupby(\"source_id\")[\"costs\"].sum().reset_index().sort_values(\"costs\", ascending=False)\n",
    "\n",
    "# Crea una paleta de colores con viridis.\n",
    "colors = plt.cm.viridis(np.linspace(0, 1, len(gastos_por_fuente)))\n",
    "\n",
    "# Crea el gráfico de barras.\n",
    "plt.figure(figsize=(10,6))\n",
    "# Grafica de barras con \"source_id\" en el eje x y \"costs\" en el eje y.\n",
    "plt.bar(gastos_por_fuente[\"source_id\"].astype(str), gastos_por_fuente[\"costs\"], color=colors)\n",
    "\n",
    "# Títulos y etiquetas.\n",
    "plt.title(\"Gastos Totales por Fuente de Adquisición\", fontsize=16, weight='bold')\n",
    "plt.xlabel(\"Source ID\", fontsize=14)\n",
    "plt.ylabel(\"Gastos (costs)\", fontsize=14)\n",
    "\n",
    "# Añade etiquetas de valores encima de cada barra.\n",
    "for i, value in enumerate(gastos_por_fuente[\"costs\"]):\n",
    "    plt.text(i, value + max(gastos_por_fuente[\"costs\"]) * 0.01, f\"${value:,.0f}\", ha='center', fontsize=11)\n",
    "\n",
    "plt.tight_layout()\n",
    "plt.show()"
   ]
  },
  {
   "cell_type": "markdown",
   "metadata": {},
   "source": [
    "* Se observa que la fuente con mayor gastos en marketing fue la fuente con id=3.\n",
    "* También se observa que no se hicieron gastos de marketing en las fuentes 6, 7 y 8."
   ]
  },
  {
   "cell_type": "markdown",
   "metadata": {},
   "source": [
    "#### 2.- ¿Cuál fue el costo de adquisición de clientes de cada una de las fuentes?"
   ]
  },
  {
   "cell_type": "code",
   "execution_count": 18,
   "metadata": {},
   "outputs": [
    {
     "data": {
      "text/plain": [
       "source_id\n",
       "1     20.770957\n",
       "10    30.168342\n",
       "2     37.582125\n",
       "3     94.151652\n",
       "4     33.723689\n",
       "5     42.458655\n",
       "9     14.481601\n",
       "dtype: float64"
      ]
     },
     "execution_count": 18,
     "metadata": {},
     "output_type": "execute_result"
    }
   ],
   "source": [
    "# Une los DataFrames \"pedidos\" y \"visitas\" por la columna \"user_id\" para saber la fuente del usuario que hizo la compra.\n",
    "df_merge = pd.merge(pedidos, visitas, on=\"user_id\", how=\"inner\")\n",
    "\n",
    "# Cuenta cuántos usuarios únicos compraron por cada fuente de adquisición (source_id).\n",
    "usuarios_unicos_por_fuente = df_merge.groupby(\"source_id\")[\"user_id\"].nunique()\n",
    "\n",
    "# Suma el total de gastos por cada fuente de adquisición.\n",
    "gastos_por_fuente = gastos.groupby(\"source_id\")[\"costs\"].sum()\n",
    "\n",
    "# Calcula el costo de adquisición de clientes (CAC) dividiendo el gasto total\n",
    "# entre el número de usuarios únicos que compraron desde esa fuente.\n",
    "costo_adquisicion_por_fuente = gastos_por_fuente / usuarios_unicos_por_fuente\n",
    "\n",
    "# Muestra el CAC por fuente de adquisición.\n",
    "costo_adquisicion_por_fuente"
   ]
  },
  {
   "cell_type": "markdown",
   "metadata": {},
   "source": [
    "#### 3.- ¿Cuán rentables eran las inversiones? (ROMI)"
   ]
  },
  {
   "cell_type": "code",
   "execution_count": 19,
   "metadata": {},
   "outputs": [
    {
     "data": {
      "text/plain": [
       "source_id\n",
       "1     9.585296\n",
       "10   -0.852238\n",
       "2     4.860932\n",
       "3    -0.806779\n",
       "4    -0.384759\n",
       "5     0.486185\n",
       "9    -0.455635\n",
       "dtype: float64"
      ]
     },
     "execution_count": 19,
     "metadata": {},
     "output_type": "execute_result"
    }
   ],
   "source": [
    "# Agrupa el DataFrame combinado por \"source_id\" y suma los ingresos (revenue) totales de cada fuente.\n",
    "ingresos_totales = df_merge.groupby(\"source_id\")[\"revenue\"].sum()\n",
    "\n",
    "# Calcula el ROMI (Return on Marketing Investment) por fuente.\n",
    "# La fórmula es (Ingresos - Gastos) / Gastos\n",
    "romi_por_fuente = (ingresos_totales - gastos_por_fuente) / gastos_por_fuente\n",
    "\n",
    "# Muestra el ROMI por fuente de adquisición.\n",
    "romi_por_fuente"
   ]
  },
  {
   "cell_type": "code",
   "execution_count": 20,
   "metadata": {},
   "outputs": [
    {
     "data": {
      "image/png": "[encoded data removed]",
      "text/plain": [
       "<Figure size 1000x600 with 1 Axes>"
      ]
     },
     "metadata": {},
     "output_type": "display_data"
    }
   ],
   "source": [
    "# Ordenar ROMI para mejor visualización.\n",
    "romi_por_fuente = romi_por_fuente.sort_values(ascending=False)\n",
    "\n",
    "# Crea una paleta de colores con viridis.\n",
    "colors = plt.cm.viridis(np.linspace(0, 1, len(romi_por_fuente)))\n",
    "\n",
    "# Crea el gráfico de barras.\n",
    "plt.figure(figsize=(10,6))\n",
    "bars = plt.bar(romi_por_fuente.index.astype(str), romi_por_fuente.values, color=colors)\n",
    "\n",
    "plt.title(\"ROMI (Return on Marketing Investment) por Fuente de Adquisición\", fontsize=16, weight='bold')\n",
    "plt.xlabel(\"Source ID\", fontsize=14)\n",
    "plt.ylabel(\"ROMI\", fontsize=14)\n",
    "\n",
    "# Muestra valores encima de las barras.\n",
    "for bar in bars:\n",
    "    yval = bar.get_height()\n",
    "    plt.text(bar.get_x() + bar.get_width()/2, yval + 0.1, f\"{yval:.2f}\", ha='center', fontsize=11)\n",
    "\n",
    "plt.axhline(0, color='gray', linewidth=1, linestyle='--')\n",
    "plt.tight_layout()\n",
    "plt.show()"
   ]
  },
  {
   "cell_type": "code",
   "execution_count": 21,
   "metadata": {},
   "outputs": [
    {
     "data": {
      "text/html": [
       "<div>\n",
       "<style scoped>\n",
       "    .dataframe tbody tr th:only-of-type {\n",
       "        vertical-align: middle;\n",
       "    }\n",
       "\n",
       "    .dataframe tbody tr th {\n",
       "        vertical-align: top;\n",
       "    }\n",
       "\n",
       "    .dataframe thead th {\n",
       "        text-align: right;\n",
       "    }\n",
       "</style>\n",
       "<table border=\"1\" class=\"dataframe\">\n",
       "  <thead>\n",
       "    <tr style=\"text-align: right;\">\n",
       "      <th></th>\n",
       "      <th>CAC</th>\n",
       "      <th>ROMI</th>\n",
       "    </tr>\n",
       "    <tr>\n",
       "      <th>source_id</th>\n",
       "      <th></th>\n",
       "      <th></th>\n",
       "    </tr>\n",
       "  </thead>\n",
       "  <tbody>\n",
       "    <tr>\n",
       "      <th>1</th>\n",
       "      <td>20.770957</td>\n",
       "      <td>9.585296</td>\n",
       "    </tr>\n",
       "    <tr>\n",
       "      <th>10</th>\n",
       "      <td>30.168342</td>\n",
       "      <td>-0.852238</td>\n",
       "    </tr>\n",
       "    <tr>\n",
       "      <th>2</th>\n",
       "      <td>37.582125</td>\n",
       "      <td>4.860932</td>\n",
       "    </tr>\n",
       "    <tr>\n",
       "      <th>3</th>\n",
       "      <td>94.151652</td>\n",
       "      <td>-0.806779</td>\n",
       "    </tr>\n",
       "    <tr>\n",
       "      <th>4</th>\n",
       "      <td>33.723689</td>\n",
       "      <td>-0.384759</td>\n",
       "    </tr>\n",
       "    <tr>\n",
       "      <th>5</th>\n",
       "      <td>42.458655</td>\n",
       "      <td>0.486185</td>\n",
       "    </tr>\n",
       "    <tr>\n",
       "      <th>9</th>\n",
       "      <td>14.481601</td>\n",
       "      <td>-0.455635</td>\n",
       "    </tr>\n",
       "  </tbody>\n",
       "</table>\n",
       "</div>"
      ],
      "text/plain": [
       "                 CAC      ROMI\n",
       "source_id                     \n",
       "1          20.770957  9.585296\n",
       "10         30.168342 -0.852238\n",
       "2          37.582125  4.860932\n",
       "3          94.151652 -0.806779\n",
       "4          33.723689 -0.384759\n",
       "5          42.458655  0.486185\n",
       "9          14.481601 -0.455635"
      ]
     },
     "execution_count": 21,
     "metadata": {},
     "output_type": "execute_result"
    }
   ],
   "source": [
    "# Crea un nuevo DF para establecer la relación entre CAC y ROMI.\n",
    "df_relacion = pd.DataFrame({\"CAC\": costo_adquisicion_por_fuente, \"ROMI\": romi_por_fuente})\n",
    "df_relacion"
   ]
  },
  {
   "cell_type": "code",
   "execution_count": 22,
   "metadata": {},
   "outputs": [
    {
     "data": {
      "image/png": "[encoded data removed]",
      "text/plain": [
       "<Figure size 800x600 with 1 Axes>"
      ]
     },
     "metadata": {},
     "output_type": "display_data"
    }
   ],
   "source": [
    "# Establece el tamaño de la figura.\n",
    "plt.figure(figsize=(8,6))\n",
    "\n",
    "# Crea un gráfico de dispersión con CAC en el eje X y ROMI en el eje Y.\n",
    "plt.scatter(df_relacion[\"CAC\"], df_relacion[\"ROMI\"], color=\"teal\")\n",
    "\n",
    "# Agrega una etiqueta de texto con el source_id a cada punto del gráfic\n",
    "for source_id in df_relacion.index:\n",
    "    plt.text(df_relacion.loc[source_id, \"CAC\"] + 0.5, \n",
    "             df_relacion.loc[source_id, \"ROMI\"], \n",
    "             str(source_id), fontsize=9)\n",
    "\n",
    "# Etiquetas de los ejes.\n",
    "plt.xlabel(\"CAC (Costo de adquisición)\")\n",
    "plt.ylabel(\"ROMI\")\n",
    "\n",
    "# Título del gráfico.\n",
    "plt.title(\"Relación entre CAC y ROMI por fuente\")\n",
    "\n",
    "# Línea horizontal en Y=0 para marcar el umbral de rentabilidad.\n",
    "plt.axhline(0, color=\"gray\", linestyle=\"--\")\n",
    "\n",
    "# Activa la cuadrícula del gráfico para facilitar la lectura visual.\n",
    "plt.grid(True)\n",
    "\n",
    "# Muestra el gráfico.\n",
    "plt.show()"
   ]
  },
  {
   "cell_type": "markdown",
   "metadata": {},
   "source": [
    "<div class=\"alert alert-block alert-success\">\n",
    "<b>Comentario del revisor (1ra Iteracion)</b> <a class=“tocSkip”></a>\n",
    "\n",
    "Muy buen trabajo hasta este punto! Calculaste muy bien las métricas de negocio y las explicas correctamente con las gráficas y tus comentarios lo cual deja claro el mensaje que se quiere compartir sin importar si la audiencia a la que expongas tus resultados sea técnica o no.\n",
    "</div>"
   ]
  },
  {
   "cell_type": "markdown",
   "metadata": {},
   "source": [
    "## **Conclusiones**  \n",
    "\n",
    "* Los resultados gráficos indican que **la fuente más rentable es la N° 1**:\n",
    "\n",
    "  - CAC bajo: \\$20.77  \n",
    "  - ROMI muy alto: \\$9.58\n",
    "   \n",
    "**Recomendación**: Esto representa una fuente eficiente y rentable. Se recomienda mantener o incluso aumentar la inversión en este canal.\n",
    "\n",
    "* Por el lado contrario, **la fuente menos efectivo fue la N° 3**:\n",
    "  \n",
    "  - CAC más alto: \\$94.15\n",
    "  - ROMI negativo: \\$-0.81\n",
    "\n",
    "**Recomendación**: Analizar si se puede mejorar la conversión en estos canales o si conviene redirigir presupuesto a fuentes más rentables.  \n",
    "\n",
    "* Fuentes con resultados mixtos:\n",
    "  \n",
    "  - source_id 5: CAC relativamente alto \\\\$42.45, pero ROMI positivo \\$0.48.\n",
    "  - source_id 2: Buen balance con ROMI \\\\$4.86 y CAC moderado \\$37.58.\n",
    "\n",
    "**Recomendación**: Optimizar, no eliminar. Podrían tener potencial con ajustes menores.\n",
    "\n",
    "    "
   ]
  },
  {
   "cell_type": "markdown",
   "metadata": {},
   "source": [
    "<div class=\"alert alert-block alert-success\">\n",
    "<b>Comentario del revisor (1ra Iteracion)</b> <a class=“tocSkip”></a>\n",
    "\n",
    "Tienes un muy buen análisis de este proyecto, te felicito!\n",
    "\n",
    "Siempre este tipo de análisis que son un poco más complejos hay que buscar cómo explicarlos de manera sencilla considerando la audiencia a la cual se va a presentar los resultados y es ahí donde las visualizaciones juegan un papel muy importante ya que con una visualización es mucho más fácil entender la explicación que con solo valores numéricos.\n",
    "\n",
    "Muy buen trabajo, saludos!\n",
    "</div>"
   ]
  }
 ],
 "metadata": {
  "kernelspec": {
   "display_name": "Python 3 (ipykernel)",
   "language": "python",
   "name": "python3"
  },
  "language_info": {
   "codemirror_mode": {
    "name": "ipython",
    "version": 3
   },
   "file_extension": ".py",
   "mimetype": "text/x-python",
   "name": "python",
   "nbconvert_exporter": "python",
   "pygments_lexer": "ipython3",
   "version": "3.9.23"
  }
 },
 "nbformat": 4,
 "nbformat_minor": 4
}
